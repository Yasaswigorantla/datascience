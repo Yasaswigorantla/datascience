{
 "cells": [
  {
   "cell_type": "markdown",
   "id": "bdff363b-18f3-4611-95eb-51597089de48",
   "metadata": {},
   "source": [
    "# Data Science Tools and Ecosystem"
   ]
  },
  {
   "cell_type": "markdown",
   "id": "4d320263-18d0-4832-99c9-559c063c6cab",
   "metadata": {},
   "source": [
    "In this noteebook, Data Science Tools and Ecosystem are summarized."
   ]
  },
  {
   "cell_type": "markdown",
   "id": "84fc2831-c622-4515-9f79-c49caf592efe",
   "metadata": {},
   "source": [
    "Some of the popular languages that data scientists use are:\n",
    "1. Python\n",
    "2. R\n",
    "3. SQL\n",
    "4. C++\n",
    "5. Java etc..;"
   ]
  },
  {
   "cell_type": "markdown",
   "id": "9c9a910e-d130-4d25-9968-e5655da7eb3b",
   "metadata": {},
   "source": [
    "Some of the commonly used libraries used by data scientists are:\n",
    "1. TensorFlow\n",
    "2. NumPy\n",
    "3. SciPy\n",
    "4. Pandas\n",
    "5. Matplotlib\n",
    "6. Keras\n",
    "7. SciKit-Learn\n",
    "8. PyTorch etc..;\n",
    "\n"
   ]
  },
  {
   "cell_type": "markdown",
   "id": "9d410507-ef8d-45e2-859e-8f7c2eed8b8d",
   "metadata": {},
   "source": [
    "|Data Science Tools|\n",
    "|---|\n",
    "|SAS|\n",
    "|Apache Hadoop|\n",
    "|TensorFlow|"
   ]
  },
  {
   "cell_type": "markdown",
   "id": "f6c7fb33-913e-4fad-892c-03abc391a099",
   "metadata": {},
   "source": [
    "### Below are a few examples of evaluating airthmetic expressions in python"
   ]
  },
  {
   "cell_type": "code",
   "execution_count": 10,
   "id": "e001bcc0-f1a5-4c74-857d-073106aa8281",
   "metadata": {},
   "outputs": [
    {
     "data": {
      "text/plain": [
       "17"
      ]
     },
     "execution_count": 10,
     "metadata": {},
     "output_type": "execute_result"
    }
   ],
   "source": [
    "#this is a cell introducing arithmetic example to multiply and add integers.\n",
    "(3*4)+5"
   ]
  },
  {
   "cell_type": "code",
   "execution_count": 12,
   "id": "09a80612-a4dd-4069-b065-8f8cf6823098",
   "metadata": {},
   "outputs": [
    {
     "data": {
      "text/plain": [
       "50.0"
      ]
     },
     "execution_count": 12,
     "metadata": {},
     "output_type": "execute_result"
    }
   ],
   "source": [
    "#this is a cell introducing arithmetic expression to convert minutes into hours.\n",
    "3000/60"
   ]
  },
  {
   "cell_type": "markdown",
   "id": "4faecf20-e665-420b-a9bb-bd45e219613c",
   "metadata": {},
   "source": [
    "__Objective__\n",
    "* list popular languages for Data Science\n",
    "* list popular libraries for Data Science\n",
    "* list of well known Data Science Tools\n",
    "* How to provide Comments in the cell\n"
   ]
  },
  {
   "cell_type": "markdown",
   "id": "3d30b0df-02a5-4df0-9b8f-b792092dc326",
   "metadata": {},
   "source": [
    "## Author\n",
    "Yasaswi Gorantla"
   ]
  }
 ],
 "metadata": {
  "kernelspec": {
   "display_name": "Python 3 (ipykernel)",
   "language": "python",
   "name": "python3"
  },
  "language_info": {
   "codemirror_mode": {
    "name": "ipython",
    "version": 3
   },
   "file_extension": ".py",
   "mimetype": "text/x-python",
   "name": "python",
   "nbconvert_exporter": "python",
   "pygments_lexer": "ipython3",
   "version": "3.12.4"
  }
 },
 "nbformat": 4,
 "nbformat_minor": 5
}
